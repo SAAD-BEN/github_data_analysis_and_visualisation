{
 "cells": [
  {
   "cell_type": "code",
   "execution_count": 1,
   "metadata": {},
   "outputs": [],
   "source": [
    "import pandas as pd\n",
    "# loading data frames\n",
    "repos = pd.read_csv('visualisation_data_final.csv')\n",
    "languages = pd.read_csv('languages_df.csv')\n",
    "commits = pd.read_csv('commits_data_final1.csv')"
   ]
  },
  {
   "cell_type": "code",
   "execution_count": 25,
   "metadata": {},
   "outputs": [
    {
     "data": {
      "text/plain": [
       "15542"
      ]
     },
     "execution_count": 25,
     "metadata": {},
     "output_type": "execute_result"
    }
   ],
   "source": [
    "# unique urls in commits data frame\n",
    "commits['url'].nunique()"
   ]
  },
  {
   "cell_type": "code",
   "execution_count": 26,
   "metadata": {},
   "outputs": [
    {
     "data": {
      "text/plain": [
       "15495"
      ]
     },
     "execution_count": 26,
     "metadata": {},
     "output_type": "execute_result"
    }
   ],
   "source": [
    "languages['url'].nunique()"
   ]
  },
  {
   "cell_type": "code",
   "execution_count": 27,
   "metadata": {},
   "outputs": [
    {
     "data": {
      "text/plain": [
       "15547"
      ]
     },
     "execution_count": 27,
     "metadata": {},
     "output_type": "execute_result"
    }
   ],
   "source": [
    "repos['url'].nunique()"
   ]
  },
  {
   "cell_type": "code",
   "execution_count": 28,
   "metadata": {},
   "outputs": [
    {
     "data": {
      "text/plain": [
       "15490"
      ]
     },
     "execution_count": 28,
     "metadata": {},
     "output_type": "execute_result"
    }
   ],
   "source": [
    "# keeping in languages only rows with urls in unique_urls in commits\n",
    "commits = commits[commits['url'].isin(languages['url'])]\n",
    "commits['url'].nunique()"
   ]
  },
  {
   "cell_type": "code",
   "execution_count": 29,
   "metadata": {},
   "outputs": [
    {
     "data": {
      "text/plain": [
       "15490"
      ]
     },
     "execution_count": 29,
     "metadata": {},
     "output_type": "execute_result"
    }
   ],
   "source": [
    "# keeping in languages only rows with urls in unique_urls in commits\n",
    "languages = languages[languages['url'].isin(commits['url'])]\n",
    "languages['url'].nunique()"
   ]
  },
  {
   "cell_type": "code",
   "execution_count": 30,
   "metadata": {},
   "outputs": [
    {
     "data": {
      "text/plain": [
       "15490"
      ]
     },
     "execution_count": 30,
     "metadata": {},
     "output_type": "execute_result"
    }
   ],
   "source": [
    "# keeping in languages only rows with urls in unique_urls in commits\n",
    "repos = repos[repos['url'].isin(languages['url'])]\n",
    "repos['url'].nunique()"
   ]
  },
  {
   "cell_type": "code",
   "execution_count": 18,
   "metadata": {},
   "outputs": [
    {
     "data": {
      "text/html": [
       "<div>\n",
       "<style scoped>\n",
       "    .dataframe tbody tr th:only-of-type {\n",
       "        vertical-align: middle;\n",
       "    }\n",
       "\n",
       "    .dataframe tbody tr th {\n",
       "        vertical-align: top;\n",
       "    }\n",
       "\n",
       "    .dataframe thead th {\n",
       "        text-align: right;\n",
       "    }\n",
       "</style>\n",
       "<table border=\"1\" class=\"dataframe\">\n",
       "  <thead>\n",
       "    <tr style=\"text-align: right;\">\n",
       "      <th></th>\n",
       "      <th>name</th>\n",
       "      <th>url</th>\n",
       "      <th>description</th>\n",
       "      <th>stars</th>\n",
       "      <th>created_at</th>\n",
       "      <th>language</th>\n",
       "      <th>forks</th>\n",
       "      <th>watchers</th>\n",
       "      <th>open_issues</th>\n",
       "      <th>owner</th>\n",
       "      <th>contributors_count</th>\n",
       "      <th>languages_used</th>\n",
       "      <th>contributors</th>\n",
       "      <th>contributions_count</th>\n",
       "    </tr>\n",
       "  </thead>\n",
       "  <tbody>\n",
       "    <tr>\n",
       "      <th>0</th>\n",
       "      <td>learn-javascript</td>\n",
       "      <td>https://github.com/sumn2u/learn-javascript</td>\n",
       "      <td>A book that teaches JavaScript</td>\n",
       "      <td>635</td>\n",
       "      <td>2023-01-01T15:16:26Z</td>\n",
       "      <td>HTML</td>\n",
       "      <td>32</td>\n",
       "      <td>635</td>\n",
       "      <td>1</td>\n",
       "      <td>sumn2u</td>\n",
       "      <td>82</td>\n",
       "      <td>{'HTML': 18686, 'Dockerfile': 365}</td>\n",
       "      <td>[gnwx, sumn2u, Anuj-Khadka, sahilxkhadka, hema...</td>\n",
       "      <td>[83, 64, 2, 2, 1, 1]</td>\n",
       "    </tr>\n",
       "    <tr>\n",
       "      <th>1</th>\n",
       "      <td>LinksHub</td>\n",
       "      <td>https://github.com/rupali-codes/LinksHub</td>\n",
       "      <td>LinksHub aims to provide developers with acces...</td>\n",
       "      <td>359</td>\n",
       "      <td>2023-01-01T18:55:44Z</td>\n",
       "      <td>TypeScript</td>\n",
       "      <td>305</td>\n",
       "      <td>359</td>\n",
       "      <td>99</td>\n",
       "      <td>rupali-codes</td>\n",
       "      <td>451</td>\n",
       "      <td>{'TypeScript': 67498, 'CSS': 2814, 'JavaScript...</td>\n",
       "      <td>[rupali-codes, CBID2, Anmol-Baranwal, Oyebolad...</td>\n",
       "      <td>[76, 65, 57, 47, 26, 17, 17, 14, 13, 11, 9, 9,...</td>\n",
       "    </tr>\n",
       "    <tr>\n",
       "      <th>2</th>\n",
       "      <td>90DaysOfDevOps</td>\n",
       "      <td>https://github.com/LondheShubham153/90DaysOfDe...</td>\n",
       "      <td>This repository is a Challenge for the DevOps ...</td>\n",
       "      <td>352</td>\n",
       "      <td>2023-01-01T11:41:21Z</td>\n",
       "      <td>Python</td>\n",
       "      <td>2274</td>\n",
       "      <td>352</td>\n",
       "      <td>54</td>\n",
       "      <td>LondheShubham153</td>\n",
       "      <td>256</td>\n",
       "      <td>{'Python': 368}</td>\n",
       "      <td>[LondheShubham153, RishikeshOps, sitchatt, Gov...</td>\n",
       "      <td>[167, 24, 13, 10, 10, 5, 5, 3, 2, 1, 1, 1, 1, ...</td>\n",
       "    </tr>\n",
       "    <tr>\n",
       "      <th>3</th>\n",
       "      <td>Obsidian-Tasks-Timeline</td>\n",
       "      <td>https://github.com/702573N/Obsidian-Tasks-Time...</td>\n",
       "      <td>A custom view build with Obsidian-Dataview to ...</td>\n",
       "      <td>174</td>\n",
       "      <td>2023-01-01T22:02:50Z</td>\n",
       "      <td>JavaScript</td>\n",
       "      <td>14</td>\n",
       "      <td>174</td>\n",
       "      <td>18</td>\n",
       "      <td>702573N</td>\n",
       "      <td>23</td>\n",
       "      <td>{'JavaScript': 34158, 'CSS': 10334}</td>\n",
       "      <td>[702573N, dranidis]</td>\n",
       "      <td>[108, 2]</td>\n",
       "    </tr>\n",
       "    <tr>\n",
       "      <th>4</th>\n",
       "      <td>scribepod</td>\n",
       "      <td>https://github.com/yacineMTB/scribepod</td>\n",
       "      <td>Some of the scripts I use for scribepod @ http...</td>\n",
       "      <td>150</td>\n",
       "      <td>2023-01-01T00:34:43Z</td>\n",
       "      <td>Jupyter Notebook</td>\n",
       "      <td>15</td>\n",
       "      <td>150</td>\n",
       "      <td>0</td>\n",
       "      <td>yacineMTB</td>\n",
       "      <td>13</td>\n",
       "      <td>{'Jupyter Notebook': 75398, 'TypeScript': 2824...</td>\n",
       "      <td>[yacineMTB]</td>\n",
       "      <td>[22]</td>\n",
       "    </tr>\n",
       "  </tbody>\n",
       "</table>\n",
       "</div>"
      ],
      "text/plain": [
       "                      name                                                url   \n",
       "0         learn-javascript         https://github.com/sumn2u/learn-javascript  \\\n",
       "1                 LinksHub           https://github.com/rupali-codes/LinksHub   \n",
       "2           90DaysOfDevOps  https://github.com/LondheShubham153/90DaysOfDe...   \n",
       "3  Obsidian-Tasks-Timeline  https://github.com/702573N/Obsidian-Tasks-Time...   \n",
       "4                scribepod             https://github.com/yacineMTB/scribepod   \n",
       "\n",
       "                                         description  stars   \n",
       "0                     A book that teaches JavaScript    635  \\\n",
       "1  LinksHub aims to provide developers with acces...    359   \n",
       "2  This repository is a Challenge for the DevOps ...    352   \n",
       "3  A custom view build with Obsidian-Dataview to ...    174   \n",
       "4  Some of the scripts I use for scribepod @ http...    150   \n",
       "\n",
       "             created_at          language  forks  watchers  open_issues   \n",
       "0  2023-01-01T15:16:26Z              HTML     32       635            1  \\\n",
       "1  2023-01-01T18:55:44Z        TypeScript    305       359           99   \n",
       "2  2023-01-01T11:41:21Z            Python   2274       352           54   \n",
       "3  2023-01-01T22:02:50Z        JavaScript     14       174           18   \n",
       "4  2023-01-01T00:34:43Z  Jupyter Notebook     15       150            0   \n",
       "\n",
       "              owner  contributors_count   \n",
       "0            sumn2u                  82  \\\n",
       "1      rupali-codes                 451   \n",
       "2  LondheShubham153                 256   \n",
       "3           702573N                  23   \n",
       "4         yacineMTB                  13   \n",
       "\n",
       "                                      languages_used   \n",
       "0                 {'HTML': 18686, 'Dockerfile': 365}  \\\n",
       "1  {'TypeScript': 67498, 'CSS': 2814, 'JavaScript...   \n",
       "2                                    {'Python': 368}   \n",
       "3                {'JavaScript': 34158, 'CSS': 10334}   \n",
       "4  {'Jupyter Notebook': 75398, 'TypeScript': 2824...   \n",
       "\n",
       "                                        contributors   \n",
       "0  [gnwx, sumn2u, Anuj-Khadka, sahilxkhadka, hema...  \\\n",
       "1  [rupali-codes, CBID2, Anmol-Baranwal, Oyebolad...   \n",
       "2  [LondheShubham153, RishikeshOps, sitchatt, Gov...   \n",
       "3                                [702573N, dranidis]   \n",
       "4                                        [yacineMTB]   \n",
       "\n",
       "                                 contributions_count  \n",
       "0                               [83, 64, 2, 2, 1, 1]  \n",
       "1  [76, 65, 57, 47, 26, 17, 17, 14, 13, 11, 9, 9,...  \n",
       "2  [167, 24, 13, 10, 10, 5, 5, 3, 2, 1, 1, 1, 1, ...  \n",
       "3                                           [108, 2]  \n",
       "4                                               [22]  "
      ]
     },
     "execution_count": 18,
     "metadata": {},
     "output_type": "execute_result"
    }
   ],
   "source": [
    "repos = repos.dropna()\n",
    "# add two columns to repos data frame to store contributors names and their commits count from the column contributors_names \"[{'contributors_names': ['gnwx', 'sumn2u', 'Anuj-Khadka', 'sahilxkhadka', 'hemants1703', 'RupeshBhandari'], 'contributions_count': [83, 64, 2, 2, 1, 1]}]\"\n",
    "repos['contributors_names'] = repos['contributors_names'].apply(lambda x: eval(x))\n",
    "repos['contributors'] = repos['contributors_names'].apply(lambda x: x[0]['contributors_names'])\n",
    "repos['contributions_count'] = repos['contributors_names'].apply(lambda x: x[0]['contributions_count'])\n",
    "repos = repos.drop(columns=['contributors_names'])\n",
    "repos.head()"
   ]
  },
  {
   "cell_type": "code",
   "execution_count": 19,
   "metadata": {},
   "outputs": [
    {
     "data": {
      "text/html": [
       "<div>\n",
       "<style scoped>\n",
       "    .dataframe tbody tr th:only-of-type {\n",
       "        vertical-align: middle;\n",
       "    }\n",
       "\n",
       "    .dataframe tbody tr th {\n",
       "        vertical-align: top;\n",
       "    }\n",
       "\n",
       "    .dataframe thead th {\n",
       "        text-align: right;\n",
       "    }\n",
       "</style>\n",
       "<table border=\"1\" class=\"dataframe\">\n",
       "  <thead>\n",
       "    <tr style=\"text-align: right;\">\n",
       "      <th></th>\n",
       "      <th>name</th>\n",
       "      <th>url</th>\n",
       "      <th>description</th>\n",
       "      <th>stars</th>\n",
       "      <th>created_at</th>\n",
       "      <th>language</th>\n",
       "      <th>forks</th>\n",
       "      <th>watchers</th>\n",
       "      <th>open_issues</th>\n",
       "      <th>owner</th>\n",
       "      <th>contributors_count</th>\n",
       "      <th>contributors</th>\n",
       "      <th>contributions_count</th>\n",
       "      <th>languages</th>\n",
       "      <th>bites_of_code</th>\n",
       "    </tr>\n",
       "  </thead>\n",
       "  <tbody>\n",
       "    <tr>\n",
       "      <th>0</th>\n",
       "      <td>learn-javascript</td>\n",
       "      <td>https://github.com/sumn2u/learn-javascript</td>\n",
       "      <td>A book that teaches JavaScript</td>\n",
       "      <td>635</td>\n",
       "      <td>2023-01-01T15:16:26Z</td>\n",
       "      <td>HTML</td>\n",
       "      <td>32</td>\n",
       "      <td>635</td>\n",
       "      <td>1</td>\n",
       "      <td>sumn2u</td>\n",
       "      <td>82</td>\n",
       "      <td>[gnwx, sumn2u, Anuj-Khadka, sahilxkhadka, hema...</td>\n",
       "      <td>[83, 64, 2, 2, 1, 1]</td>\n",
       "      <td>[HTML, Dockerfile]</td>\n",
       "      <td>[18686, 365]</td>\n",
       "    </tr>\n",
       "    <tr>\n",
       "      <th>1</th>\n",
       "      <td>LinksHub</td>\n",
       "      <td>https://github.com/rupali-codes/LinksHub</td>\n",
       "      <td>LinksHub aims to provide developers with acces...</td>\n",
       "      <td>359</td>\n",
       "      <td>2023-01-01T18:55:44Z</td>\n",
       "      <td>TypeScript</td>\n",
       "      <td>305</td>\n",
       "      <td>359</td>\n",
       "      <td>99</td>\n",
       "      <td>rupali-codes</td>\n",
       "      <td>451</td>\n",
       "      <td>[rupali-codes, CBID2, Anmol-Baranwal, Oyebolad...</td>\n",
       "      <td>[76, 65, 57, 47, 26, 17, 17, 14, 13, 11, 9, 9,...</td>\n",
       "      <td>[TypeScript, CSS, JavaScript, Shell]</td>\n",
       "      <td>[67498, 2814, 2072, 1134]</td>\n",
       "    </tr>\n",
       "    <tr>\n",
       "      <th>2</th>\n",
       "      <td>90DaysOfDevOps</td>\n",
       "      <td>https://github.com/LondheShubham153/90DaysOfDe...</td>\n",
       "      <td>This repository is a Challenge for the DevOps ...</td>\n",
       "      <td>352</td>\n",
       "      <td>2023-01-01T11:41:21Z</td>\n",
       "      <td>Python</td>\n",
       "      <td>2274</td>\n",
       "      <td>352</td>\n",
       "      <td>54</td>\n",
       "      <td>LondheShubham153</td>\n",
       "      <td>256</td>\n",
       "      <td>[LondheShubham153, RishikeshOps, sitchatt, Gov...</td>\n",
       "      <td>[167, 24, 13, 10, 10, 5, 5, 3, 2, 1, 1, 1, 1, ...</td>\n",
       "      <td>[Python]</td>\n",
       "      <td>[368]</td>\n",
       "    </tr>\n",
       "    <tr>\n",
       "      <th>3</th>\n",
       "      <td>Obsidian-Tasks-Timeline</td>\n",
       "      <td>https://github.com/702573N/Obsidian-Tasks-Time...</td>\n",
       "      <td>A custom view build with Obsidian-Dataview to ...</td>\n",
       "      <td>174</td>\n",
       "      <td>2023-01-01T22:02:50Z</td>\n",
       "      <td>JavaScript</td>\n",
       "      <td>14</td>\n",
       "      <td>174</td>\n",
       "      <td>18</td>\n",
       "      <td>702573N</td>\n",
       "      <td>23</td>\n",
       "      <td>[702573N, dranidis]</td>\n",
       "      <td>[108, 2]</td>\n",
       "      <td>[JavaScript, CSS]</td>\n",
       "      <td>[34158, 10334]</td>\n",
       "    </tr>\n",
       "    <tr>\n",
       "      <th>4</th>\n",
       "      <td>scribepod</td>\n",
       "      <td>https://github.com/yacineMTB/scribepod</td>\n",
       "      <td>Some of the scripts I use for scribepod @ http...</td>\n",
       "      <td>150</td>\n",
       "      <td>2023-01-01T00:34:43Z</td>\n",
       "      <td>Jupyter Notebook</td>\n",
       "      <td>15</td>\n",
       "      <td>150</td>\n",
       "      <td>0</td>\n",
       "      <td>yacineMTB</td>\n",
       "      <td>13</td>\n",
       "      <td>[yacineMTB]</td>\n",
       "      <td>[22]</td>\n",
       "      <td>[Jupyter Notebook, TypeScript, Python, CSS, HT...</td>\n",
       "      <td>[75398, 28246, 8755, 2521, 1124, 593]</td>\n",
       "    </tr>\n",
       "  </tbody>\n",
       "</table>\n",
       "</div>"
      ],
      "text/plain": [
       "                      name                                                url   \n",
       "0         learn-javascript         https://github.com/sumn2u/learn-javascript  \\\n",
       "1                 LinksHub           https://github.com/rupali-codes/LinksHub   \n",
       "2           90DaysOfDevOps  https://github.com/LondheShubham153/90DaysOfDe...   \n",
       "3  Obsidian-Tasks-Timeline  https://github.com/702573N/Obsidian-Tasks-Time...   \n",
       "4                scribepod             https://github.com/yacineMTB/scribepod   \n",
       "\n",
       "                                         description  stars   \n",
       "0                     A book that teaches JavaScript    635  \\\n",
       "1  LinksHub aims to provide developers with acces...    359   \n",
       "2  This repository is a Challenge for the DevOps ...    352   \n",
       "3  A custom view build with Obsidian-Dataview to ...    174   \n",
       "4  Some of the scripts I use for scribepod @ http...    150   \n",
       "\n",
       "             created_at          language  forks  watchers  open_issues   \n",
       "0  2023-01-01T15:16:26Z              HTML     32       635            1  \\\n",
       "1  2023-01-01T18:55:44Z        TypeScript    305       359           99   \n",
       "2  2023-01-01T11:41:21Z            Python   2274       352           54   \n",
       "3  2023-01-01T22:02:50Z        JavaScript     14       174           18   \n",
       "4  2023-01-01T00:34:43Z  Jupyter Notebook     15       150            0   \n",
       "\n",
       "              owner  contributors_count   \n",
       "0            sumn2u                  82  \\\n",
       "1      rupali-codes                 451   \n",
       "2  LondheShubham153                 256   \n",
       "3           702573N                  23   \n",
       "4         yacineMTB                  13   \n",
       "\n",
       "                                        contributors   \n",
       "0  [gnwx, sumn2u, Anuj-Khadka, sahilxkhadka, hema...  \\\n",
       "1  [rupali-codes, CBID2, Anmol-Baranwal, Oyebolad...   \n",
       "2  [LondheShubham153, RishikeshOps, sitchatt, Gov...   \n",
       "3                                [702573N, dranidis]   \n",
       "4                                        [yacineMTB]   \n",
       "\n",
       "                                 contributions_count   \n",
       "0                               [83, 64, 2, 2, 1, 1]  \\\n",
       "1  [76, 65, 57, 47, 26, 17, 17, 14, 13, 11, 9, 9,...   \n",
       "2  [167, 24, 13, 10, 10, 5, 5, 3, 2, 1, 1, 1, 1, ...   \n",
       "3                                           [108, 2]   \n",
       "4                                               [22]   \n",
       "\n",
       "                                           languages   \n",
       "0                                 [HTML, Dockerfile]  \\\n",
       "1               [TypeScript, CSS, JavaScript, Shell]   \n",
       "2                                           [Python]   \n",
       "3                                  [JavaScript, CSS]   \n",
       "4  [Jupyter Notebook, TypeScript, Python, CSS, HT...   \n",
       "\n",
       "                           bites_of_code  \n",
       "0                           [18686, 365]  \n",
       "1              [67498, 2814, 2072, 1134]  \n",
       "2                                  [368]  \n",
       "3                         [34158, 10334]  \n",
       "4  [75398, 28246, 8755, 2521, 1124, 593]  "
      ]
     },
     "execution_count": 19,
     "metadata": {},
     "output_type": "execute_result"
    }
   ],
   "source": [
    "# add two columns to repos data frame to store languages and their bites_of_code from the column languages_used {'HTML': 18686, 'Dockerfile': 365}\n",
    "repos['languages_used'] = repos['languages_used'].apply(lambda x: eval(x))\n",
    "repos['languages'] = repos['languages_used'].apply(lambda x: list(x.keys()))\n",
    "repos['bites_of_code'] = repos['languages_used'].apply(lambda x: list(x.values()))\n",
    "repos = repos.drop(columns=['languages_used'])\n",
    "repos.head()"
   ]
  },
  {
   "cell_type": "code",
   "execution_count": 11,
   "metadata": {},
   "outputs": [
    {
     "name": "stdout",
     "output_type": "stream",
     "text": [
      "<class 'pandas.core.frame.DataFrame'>\n",
      "RangeIndex: 15547 entries, 0 to 15546\n",
      "Columns: 289 entries, url to NSIS\n",
      "dtypes: int64(288), object(1)\n",
      "memory usage: 34.3+ MB\n"
     ]
    }
   ],
   "source": [
    "languages.info()"
   ]
  },
  {
   "cell_type": "code",
   "execution_count": 23,
   "metadata": {},
   "outputs": [],
   "source": [
    "# keep only the rows with common urls in commits and repos and languages data frames\n",
    "commits = commits[commits['url'].isin(repos['url'])]\n",
    "languages = languages[languages['url'].isin(repos['url'])]\n"
   ]
  },
  {
   "cell_type": "code",
   "execution_count": 24,
   "metadata": {},
   "outputs": [
    {
     "name": "stdout",
     "output_type": "stream",
     "text": [
      "<class 'pandas.core.frame.DataFrame'>\n",
      "Index: 325465 entries, 0 to 326276\n",
      "Data columns (total 7 columns):\n",
      " #   Column          Non-Null Count   Dtype \n",
      "---  ------          --------------   ----- \n",
      " 0   url             325465 non-null  object\n",
      " 1   id              325465 non-null  object\n",
      " 2   author_name     325465 non-null  object\n",
      " 3   author_date     325465 non-null  object\n",
      " 4   committer_name  325465 non-null  object\n",
      " 5   committer_date  325465 non-null  object\n",
      " 6   repo_name       325465 non-null  object\n",
      "dtypes: object(7)\n",
      "memory usage: 19.9+ MB\n"
     ]
    }
   ],
   "source": [
    "commits.info()"
   ]
  },
  {
   "cell_type": "code",
   "execution_count": 20,
   "metadata": {},
   "outputs": [
    {
     "name": "stdout",
     "output_type": "stream",
     "text": [
      "<class 'pandas.core.frame.DataFrame'>\n",
      "Index: 15547 entries, 0 to 15599\n",
      "Data columns (total 15 columns):\n",
      " #   Column               Non-Null Count  Dtype \n",
      "---  ------               --------------  ----- \n",
      " 0   name                 15547 non-null  object\n",
      " 1   url                  15547 non-null  object\n",
      " 2   description          15547 non-null  object\n",
      " 3   stars                15547 non-null  int64 \n",
      " 4   created_at           15547 non-null  object\n",
      " 5   language             15547 non-null  object\n",
      " 6   forks                15547 non-null  int64 \n",
      " 7   watchers             15547 non-null  int64 \n",
      " 8   open_issues          15547 non-null  int64 \n",
      " 9   owner                15547 non-null  object\n",
      " 10  contributors_count   15547 non-null  int64 \n",
      " 11  contributors         15547 non-null  object\n",
      " 12  contributions_count  15547 non-null  object\n",
      " 13  languages            15547 non-null  object\n",
      " 14  bites_of_code        15547 non-null  object\n",
      "dtypes: int64(5), object(10)\n",
      "memory usage: 2.4+ MB\n"
     ]
    }
   ],
   "source": [
    "repos.info()"
   ]
  },
  {
   "cell_type": "code",
   "execution_count": 33,
   "metadata": {},
   "outputs": [
    {
     "name": "stdout",
     "output_type": "stream",
     "text": [
      "<class 'pandas.core.frame.DataFrame'>\n",
      "Index: 15490 entries, 0 to 15546\n",
      "Columns: 289 entries, url to NSIS\n",
      "dtypes: int64(288), object(1)\n",
      "memory usage: 34.3+ MB\n"
     ]
    }
   ],
   "source": [
    "languages.info()"
   ]
  },
  {
   "cell_type": "code",
   "execution_count": 22,
   "metadata": {},
   "outputs": [],
   "source": [
    "repos.to_csv('data/repos.csv', index=False)\n",
    "languages.to_csv('data/languages.csv', index=False)\n",
    "commits.to_csv('data/commits.csv', index=False)"
   ]
  }
 ],
 "metadata": {
  "kernelspec": {
   "display_name": "Python 3",
   "language": "python",
   "name": "python3"
  },
  "language_info": {
   "codemirror_mode": {
    "name": "ipython",
    "version": 3
   },
   "file_extension": ".py",
   "mimetype": "text/x-python",
   "name": "python",
   "nbconvert_exporter": "python",
   "pygments_lexer": "ipython3",
   "version": "3.11.3"
  },
  "orig_nbformat": 4
 },
 "nbformat": 4,
 "nbformat_minor": 2
}
