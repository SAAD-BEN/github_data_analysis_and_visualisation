{
 "cells": [
  {
   "cell_type": "code",
   "execution_count": 14,
   "metadata": {},
   "outputs": [],
   "source": [
    "import pandas as pd\n",
    "import numpy as np"
   ]
  },
  {
   "cell_type": "code",
   "execution_count": 2,
   "metadata": {},
   "outputs": [],
   "source": [
    "# load both datasets\n",
    "df1 = pd.read_csv('visualisation_data.csv')\n",
    "df2 = pd.read_csv('Repo_in2023_nettoyé.csv')"
   ]
  },
  {
   "cell_type": "code",
   "execution_count": 6,
   "metadata": {},
   "outputs": [
    {
     "data": {
      "text/plain": [
       "url\n",
       "True     13000\n",
       "False     2600\n",
       "Name: count, dtype: int64"
      ]
     },
     "execution_count": 6,
     "metadata": {},
     "output_type": "execute_result"
    }
   ],
   "source": [
    "# check how many rows are common in both datasets based on the column 'url'\n",
    "df1['url'].isin(df2['url']).value_counts()\n"
   ]
  },
  {
   "cell_type": "code",
   "execution_count": 15,
   "metadata": {},
   "outputs": [],
   "source": [
    "#create a topics column in df1 filled with NaN values\n",
    "df1['topics'] = np.nan"
   ]
  },
  {
   "cell_type": "code",
   "execution_count": 16,
   "metadata": {},
   "outputs": [
    {
     "name": "stderr",
     "output_type": "stream",
     "text": [
      "C:\\Users\\YouCode\\AppData\\Local\\Temp\\ipykernel_5744\\1515792589.py:4: SettingWithCopyWarning: \n",
      "A value is trying to be set on a copy of a slice from a DataFrame\n",
      "\n",
      "See the caveats in the documentation: https://pandas.pydata.org/pandas-docs/stable/user_guide/indexing.html#returning-a-view-versus-a-copy\n",
      "  df1['topics'][i] = df2[df2['url']==df1['url'][i]]['topics'].values[0]\n"
     ]
    }
   ],
   "source": [
    "# add the column 'topics' from df2 to df1 based on the column 'url' if the row is common in both datasets\n",
    "for i in range(len(df1)):\n",
    "    if df1['url'][i] in df2['url'].values:\n",
    "        df1['topics'][i] = df2[df2['url']==df1['url'][i]]['topics'].values[0]\n",
    "    else:\n",
    "        df1['topics'][i] = []"
   ]
  },
  {
   "cell_type": "code",
   "execution_count": 20,
   "metadata": {},
   "outputs": [
    {
     "data": {
      "text/plain": [
       "topics\n",
       "[]                                                                                                                                                                                                                                                      7349\n",
       "[]                                                                                                                                                                                                                                                      2600\n",
       "['nostr']                                                                                                                                                                                                                                                  9\n",
       "['chatgpt', 'openai']                                                                                                                                                                                                                                      6\n",
       "['chatgpt']                                                                                                                                                                                                                                                5\n",
       "                                                                                                                                                                                                                                                        ... \n",
       "['api', 'boilerplate', 'docker', 'laravel', 'skeleton', 'template']                                                                                                                                                                                        1\n",
       "['android', 'high-performance', 'ipv4', 'ipv6', 'low-overhead', 'socks5', 'tcp', 'tun2socks', 'udp', 'vpn']                                                                                                                                                1\n",
       "['aws', 'aws-organizations', 'scp', 'terraform']                                                                                                                                                                                                           1\n",
       "['crawling', 'dom', 'scanning', 'single-page-applications', 'xss', 'xss-detection']                                                                                                                                                                        1\n",
       "['discord', 'discord-c2', 'discord-rat', 'malware', 'malware-research', 'rat', 'remote-access-tool', 'remote-admin-tool', 'remote-administrative-tool', 'remote-control', 'spread', 'synthetic', 'syntheticc', 'syntheticlol', 'zenny', 'zenny-rat']       1\n",
       "Name: count, Length: 5566, dtype: int64"
      ]
     },
     "execution_count": 20,
     "metadata": {},
     "output_type": "execute_result"
    }
   ],
   "source": [
    "df1['topics'].value_counts()"
   ]
  }
 ],
 "metadata": {
  "kernelspec": {
   "display_name": "Python 3",
   "language": "python",
   "name": "python3"
  },
  "language_info": {
   "codemirror_mode": {
    "name": "ipython",
    "version": 3
   },
   "file_extension": ".py",
   "mimetype": "text/x-python",
   "name": "python",
   "nbconvert_exporter": "python",
   "pygments_lexer": "ipython3",
   "version": "3.11.3"
  },
  "orig_nbformat": 4
 },
 "nbformat": 4,
 "nbformat_minor": 2
}
